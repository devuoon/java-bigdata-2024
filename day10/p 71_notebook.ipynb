{
 "cells": [
  {
   "cell_type": "markdown",
   "metadata": {},
   "source": [
    "## 주피터 노트북 시작\n",
    "\n",
    "- 주피터 노트북 사용법 학습\n",
    "  1. VS Code > Ctrl+Shift+P(명령 팔레트) > Create : 새 Jupyter Notebook 선택\n",
    "  2. 반드시 최초 저장\n",
    "  3. 마크다운 셀, 코드 셀 확인\n",
    "  4. 노트북을 새로 열면 __'모두 실행'__ 눌러서 전체 코드셀 실행"
   ]
  },
  {
   "cell_type": "code",
   "execution_count": 2,
   "metadata": {},
   "outputs": [
    {
     "name": "stdout",
     "output_type": "stream",
     "text": [
      "Hello JupyterNotebook!!\n"
     ]
    }
   ],
   "source": [
    "print('Hello JupyterNotebook!!')"
   ]
  },
  {
   "cell_type": "markdown",
   "metadata": {},
   "source": [
    "### 주피터 노트북 단축키\n",
    "\n",
    "- 필수 단축키\n",
    "  - Ctrl + Enter : (셀 내부)마크다운 셀은 닫기, 코드 셀은 실행\n",
    "  - Shift + Enter : (셀 내부)Ctrl + Enter 기능 + 현재와 같은 셀을 추가 (단, 마지막 셀에서만 동작)\n",
    "  - a : (셀 외부)앞에 코드 셀 추가\n",
    "  - Shift + L : (셀 외부)라인넘버 토글\n",
    "  - Ctrl + / : (셀 내부) 주석 토글\n",
    "  \n",
    "- 옵션 단축키\n",
    "  - b : (셀 외부)뒤에 코드 셀 추가\n",
    "  - m : (셀 외부) 코드셀을 마크다운셀로 변경\n",
    "  - y : (셀 외부) 마크다운셀을 코드셀로 변경\n",
    "\n",
    "### 디버깅"
   ]
  },
  {
   "cell_type": "code",
   "execution_count": 4,
   "metadata": {},
   "outputs": [],
   "source": [
    "def add(x, y):\n",
    "  res = x + y\n",
    "  return res"
   ]
  }
 ],
 "metadata": {
  "kernelspec": {
   "display_name": "Python 3",
   "language": "python",
   "name": "python3"
  },
  "language_info": {
   "codemirror_mode": {
    "name": "ipython",
    "version": 3
   },
   "file_extension": ".py",
   "mimetype": "text/x-python",
   "name": "python",
   "nbconvert_exporter": "python",
   "pygments_lexer": "ipython3",
   "version": "3.12.2"
  }
 },
 "nbformat": 4,
 "nbformat_minor": 2
}
