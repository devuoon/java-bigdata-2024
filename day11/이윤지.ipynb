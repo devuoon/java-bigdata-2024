{
 "cells": [
  {
   "cell_type": "markdown",
   "metadata": {},
   "source": [
    "## 1번 문제"
   ]
  },
  {
   "cell_type": "code",
   "execution_count": 8,
   "metadata": {},
   "outputs": [
    {
     "name": "stdout",
     "output_type": "stream",
     "text": [
      "남자\n"
     ]
    }
   ],
   "source": [
    "def checkGender(id_number):\n",
    "    seventhNum = int(id_number.replace(\"-\", \"\")[6])\n",
    "\n",
    "    if seventhNum in [1, 3, 5]:\n",
    "        return \"남성\"\n",
    "    elif seventhNum in [2, 4, 6]:\n",
    "        return \"여성\"\n",
    "    else:\n",
    "        return \"번호를 다시 입력해주세요.\"\n",
    "\n",
    "# 주민번호 입력\n",
    "numInput = input(\"주민번호를 입력하세요 (ex. 123456-1234567): \")\n",
    "\n",
    "# 성별을 확인하고 출력\n",
    "gender = checkGender(numInput)\n",
    "print(gender)"
   ]
  },
  {
   "cell_type": "markdown",
   "metadata": {},
   "source": [
    "## 2번 문제"
   ]
  },
  {
   "cell_type": "code",
   "execution_count": 11,
   "metadata": {},
   "outputs": [
    {
     "name": "stdout",
     "output_type": "stream",
     "text": [
      "오늘은 화요일입니다.\n"
     ]
    }
   ],
   "source": [
    "def dayWeek(engWeek):\n",
    "    week = {\n",
    "        'MON': '월요일',\n",
    "        'TUE': '화요일',\n",
    "        'WED': '수요일',\n",
    "        'THU': '목요일',\n",
    "        'FRI': '금요일',\n",
    "        'SAT': '토요일',\n",
    "        'SUN': '일요일'\n",
    "    }\n",
    "\n",
    "    if engWeek in week:\n",
    "        return week[engWeek]\n",
    "    else:\n",
    "        return '올바른 요일을 입력하세요.'\n",
    "\n",
    "# 사용자로부터 영어 요일을 입력 받습니다.\n",
    "userInput = input(\"요일을 입력하세요 (MON, TUE, WED, THU, FRI, SAT, SUN): \")\n",
    "\n",
    "# 입력 받은 영어 요일을 한국어 요일로 변환하여 출력합니다.\n",
    "korWeek = dayWeek(userInput.upper())\n",
    "print(f\"오늘은 {korWeek}입니다.\")"
   ]
  },
  {
   "cell_type": "markdown",
   "metadata": {},
   "source": [
    "## 3번 문제"
   ]
  },
  {
   "cell_type": "code",
   "execution_count": 13,
   "metadata": {},
   "outputs": [
    {
     "name": "stdout",
     "output_type": "stream",
     "text": [
      "애들은 가라\n"
     ]
    }
   ],
   "source": [
    "def club(age):\n",
    "    if age < 20:\n",
    "        return '애들은 가라'\n",
    "    else:\n",
    "        return '어서옵쇼, 손님!!'\n",
    "\n",
    "myAge = int(input(\"나이를 입력하세요: \"))\n",
    "\n",
    "result = club(myAge)\n",
    "print(result)"
   ]
  },
  {
   "cell_type": "markdown",
   "metadata": {},
   "source": [
    "## 4번 문제"
   ]
  },
  {
   "cell_type": "code",
   "execution_count": 40,
   "metadata": {},
   "outputs": [
    {
     "name": "stdout",
     "output_type": "stream",
     "text": [
      "결과가 저장되었습니다.\n"
     ]
    }
   ],
   "source": [
    "with open('result.txt', 'w') as file:\n",
    "    number = 1\n",
    "    while number <= 1000:\n",
    "        if number % 3 == 0 or number % 5 == 0:\n",
    "            file.write(str(number) + '\\n')\n",
    "        number += 1\n",
    "\n",
    "print(\"결과가 저장되었습니다.\")"
   ]
  },
  {
   "cell_type": "markdown",
   "metadata": {},
   "source": [
    "## 5번 문제"
   ]
  },
  {
   "cell_type": "code",
   "execution_count": 39,
   "metadata": {},
   "outputs": [
    {
     "name": "stdout",
     "output_type": "stream",
     "text": [
      "2024\\03%07 09**54//42\n"
     ]
    }
   ],
   "source": [
    "import datetime\n",
    "\n",
    "now = datetime.datetime.now()\n",
    "printNow = now.strftime(\"%Y\\\\%m\") + \"%\" + now.strftime(\"%d %H**%M//%S\")\n",
    "print(printNow)"
   ]
  }
 ],
 "metadata": {
  "kernelspec": {
   "display_name": "Python 3",
   "language": "python",
   "name": "python3"
  },
  "language_info": {
   "codemirror_mode": {
    "name": "ipython",
    "version": 3
   },
   "file_extension": ".py",
   "mimetype": "text/x-python",
   "name": "python",
   "nbconvert_exporter": "python",
   "pygments_lexer": "ipython3",
   "version": "3.12.2"
  }
 },
 "nbformat": 4,
 "nbformat_minor": 2
}
